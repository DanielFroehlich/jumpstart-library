{
 "metadata": {
  "language_info": {
   "codemirror_mode": {
    "name": "ipython",
    "version": 3
   },
   "file_extension": ".py",
   "mimetype": "text/x-python",
   "name": "python",
   "nbconvert_exporter": "python",
   "pygments_lexer": "ipython3",
   "version": "3.9.2"
  },
  "orig_nbformat": 2,
  "kernelspec": {
   "name": "python392jvsc74a57bd0aee8b7b246df8f9039afb4144a1f6fd8d2ca17a180786b69acc140d282b71a49",
   "display_name": "Python 3.9.2 64-bit"
  },
  "metadata": {
   "interpreter": {
    "hash": "aee8b7b246df8f9039afb4144a1f6fd8d2ca17a180786b69acc140d282b71a49"
   }
  }
 },
 "nbformat": 4,
 "nbformat_minor": 2,
 "cells": [
  {
   "source": [
    "#### This is a helper notebook used to migrate US addresses to UK addresses etc"
   ],
   "cell_type": "markdown",
   "metadata": {}
  },
  {
   "cell_type": "code",
   "execution_count": 59,
   "metadata": {},
   "outputs": [
    {
     "output_type": "stream",
     "name": "stdout",
     "text": [
      "[{'vehicle_registered_plate_number': 'KLOIMA2555', 'vehicle_color': 'gold-beige', 'vehicle_make': 'suzuki', 'vehicle_body_type': 'sedan-standard', 'vehicle_make_model': 'mercedes-benz_e-class', 'vehicle_model_year': '2010-2014', 'vehicle_registered_city': 'Lane Kingswood', 'vehicle_owner_name': 'Ryan Stokes', 'vehicle_owner_address': 'Bracken House Waterhouse ', 'vehicle_owner_city': 'Lane Kingswood', 'vehicle_owner_zip_code': 'KT20 6LF', 'vehicle_owner_contact_number': '+441737612524', 'customer_id': '16e52f03-651a-49f2-8934-676eeef5590a', 'customer_balance': '706 USD', 'customer_name': 'Ryan Stokes', 'customer_address': 'Bracken House Waterhouse ', 'customer_city': 'Lane Kingswood', 'customer_zip_code': 'KT20 6LF', 'customer_contact_number': '+441737612524'}, {'vehicle_registered_plate_number': 'CHIAN000', 'vehicle_color': 'black', 'vehicle_make': 'toyota', 'vehicle_body_type': 'sedan-wagon', 'vehicle_make_model': 'toyota_land-cruiser', 'vehicle_model_year': '2010-2014', 'vehicle_registered_city': 'London', 'vehicle_owner_name': 'David Jordan', 'vehicle_owner_address': '61 Erconwald Street', 'vehicle_owner_city': 'London', 'vehicle_owner_zip_code': 'W12 0BP', 'vehicle_owner_contact_number': '+44201525 0840', 'customer_id': '0e349e45-2e03-4bdf-8d26-ca6aec3378a8', 'customer_balance': '737 USD', 'customer_name': 'David Jordan', 'customer_address': '61 Erconwald Street', 'customer_city': 'London', 'customer_zip_code': 'W12 0BP', 'customer_contact_number': '+44201525 0840'}, {'vehicle_registered_plate_number': 'M666YOB', 'vehicle_color': 'red', 'vehicle_make': 'chrysler', 'vehicle_body_type': 'tractor-trailer', 'vehicle_make_model': 'chrysler_pt-cruiser', 'vehicle_model_year': '2000-2004', 'vehicle_registered_city': 'London', 'vehicle_owner_name': 'Derrick Hancock', 'vehicle_owner_address': '3 The Marais', 'vehicle_owner_city': 'London', 'vehicle_owner_zip_code': 'W4 3TH', 'vehicle_owner_contact_number': '+44208122 4027', 'customer_id': 'c1fb3334-f938-47bb-953b-627a74663fdb', 'customer_balance': '221 USD', 'customer_name': 'Derrick Hancock', 'customer_address': '3 The Marais', 'customer_city': 'London', 'customer_zip_code': 'W4 3TH', 'customer_contact_number': '+44208122 4027'}, {'vehicle_registered_plate_number': 'TN11AV1553', 'vehicle_color': 'blue', 'vehicle_make': 'hyundai', 'vehicle_body_type': 'sedan-wagon', 'vehicle_make_model': 'hyundai_elantra', 'vehicle_model_year': '2010-2014', 'vehicle_registered_city': 'Weybridge', 'vehicle_owner_name': 'Karen Soto', 'vehicle_owner_address': '173 Oatlands Drive', 'vehicle_owner_city': 'Weybridge', 'vehicle_owner_zip_code': 'KT13 9JY', 'vehicle_owner_contact_number': '+441932326036', 'customer_id': '2a1f84c8-4a31-4775-94c3-9fbdb7f28768', 'customer_balance': '434 USD', 'customer_name': 'Karen Soto', 'customer_address': '173 Oatlands Drive', 'customer_city': 'Weybridge', 'customer_zip_code': 'KT13 9JY', 'customer_contact_number': '+441932326036'}, {'vehicle_registered_plate_number': 'M666YOB', 'vehicle_color': 'red', 'vehicle_make': 'chrysler', 'vehicle_body_type': 'tractor-trailer', 'vehicle_make_model': 'chrysler_pt-cruiser', 'vehicle_model_year': '2000-2004', 'vehicle_registered_city': 'Chertsey', 'vehicle_owner_name': 'Tamara David', 'vehicle_owner_address': '63C London Street', 'vehicle_owner_city': 'Chertsey', 'vehicle_owner_zip_code': 'KT16 8AP', 'vehicle_owner_contact_number': '+441932168558', 'customer_id': 'da7e1878-eec7-424b-b59c-004dd70f6ac7', 'customer_balance': '682 USD', 'customer_name': 'Tamara David', 'customer_address': '63C London Street', 'customer_city': 'Chertsey', 'customer_zip_code': 'KT16 8AP', 'customer_contact_number': '+441932168558'}, {'vehicle_registered_plate_number': 'E4GLE', 'vehicle_color': 'white', 'vehicle_make': 'audi', 'vehicle_body_type': 'sedan-sports', 'vehicle_make_model': 'audi_tt', 'vehicle_model_year': '2010-2014', 'vehicle_registered_city': 'Epsom', 'vehicle_owner_name': 'Melissa Wood', 'vehicle_owner_address': '1 Marneys Close', 'vehicle_owner_city': 'Epsom', 'vehicle_owner_zip_code': 'KT18 7HR', 'vehicle_owner_contact_number': '+441372673166', 'customer_id': 'ef9c8aaf-0beb-4c59-9705-09983179ac00', 'customer_balance': '169 USD', 'customer_name': 'Melissa Wood', 'customer_address': '1 Marneys Close', 'customer_city': 'Epsom', 'customer_zip_code': 'KT18 7HR', 'customer_contact_number': '+441372673166'}, {'vehicle_registered_plate_number': 'LR33TEE', 'vehicle_color': 'red', 'vehicle_make': 'mini', 'vehicle_body_type': 'sedan-compact', 'vehicle_make_model': 'mini_cooper', 'vehicle_model_year': '2005-2009', 'vehicle_registered_city': 'London', 'vehicle_owner_name': 'Jason Hardy', 'vehicle_owner_address': '12 Lancashire Court', 'vehicle_owner_city': 'London', 'vehicle_owner_zip_code': 'W1S 1EY', 'vehicle_owner_contact_number': '+44208006 4415', 'customer_id': '59b87753-a062-4efd-8a41-f22f567ed20a', 'customer_balance': '142 USD', 'customer_name': 'Jason Hardy', 'customer_address': '12 Lancashire Court', 'customer_city': 'London', 'customer_zip_code': 'W1S 1EY', 'customer_contact_number': '+44208006 4415'}, {'vehicle_registered_plate_number': 'DAN54P', 'vehicle_color': 'blue', 'vehicle_make': 'bmw', 'vehicle_body_type': 'sedan-standard', 'vehicle_make_model': 'bmw_3-series', 'vehicle_model_year': '2010-2014', 'vehicle_registered_city': 'London', 'vehicle_owner_name': 'Kristi Cohen', 'vehicle_owner_address': '83 Iverna Court', 'vehicle_owner_city': 'London', 'vehicle_owner_zip_code': 'W8 6TU', 'vehicle_owner_contact_number': '+44202655 4050', 'customer_id': '310e3c08-4900-4b40-a2a2-38741b7c2e0a', 'customer_balance': '233 USD', 'customer_name': 'Kristi Cohen', 'customer_address': '83 Iverna Court', 'customer_city': 'London', 'customer_zip_code': 'W8 6TU', 'customer_contact_number': '+44202655 4050'}, {'vehicle_registered_plate_number': 'MH20EE7598', 'vehicle_color': 'silver-gray', 'vehicle_make': 'skoda', 'vehicle_body_type': 'sedan-standard', 'vehicle_make_model': 'skoda_rapid/spaceback', 'vehicle_model_year': '2015-2019', 'vehicle_registered_city': 'Tadworth', 'vehicle_owner_name': 'Jenna Vargas', 'vehicle_owner_address': '6 Meare Close', 'vehicle_owner_city': 'Tadworth', 'vehicle_owner_zip_code': 'KT20 5RZ', 'vehicle_owner_contact_number': '+441737756408', 'customer_id': '2d086976-f75d-4942-8b7b-d0aab0c50dac', 'customer_balance': '838 USD', 'customer_name': 'Jenna Vargas', 'customer_address': '6 Meare Close', 'customer_city': 'Tadworth', 'customer_zip_code': 'KT20 5RZ', 'customer_contact_number': '+441737756408'}, {'vehicle_registered_plate_number': 'RX61GDU', 'vehicle_color': 'silver-gray', 'vehicle_make': 'holden', 'vehicle_body_type': 'tractor-trailer', 'vehicle_make_model': 'cadillac_elr', 'vehicle_model_year': '2010-2014', 'vehicle_registered_city': 'Weybridge', 'vehicle_owner_name': 'Melody Johnson', 'vehicle_owner_address': '3 Park Lawn Road', 'vehicle_owner_city': 'Weybridge', 'vehicle_owner_zip_code': 'KT13 9EU', 'vehicle_owner_contact_number': '+441932753428', 'customer_id': 'cb336da4-9042-4626-b1b5-1cc5d7cfbe46', 'customer_balance': '903 USD', 'customer_name': 'Melody Johnson', 'customer_address': '3 Park Lawn Road', 'customer_city': 'Weybridge', 'customer_zip_code': 'KT13 9EU', 'customer_contact_number': '+441932753428'}, {'vehicle_registered_plate_number': 'BPT00O1', 'vehicle_color': 'silver-gray', 'vehicle_make': 'audi', 'vehicle_body_type': 'sedan-sports', 'vehicle_make_model': 'audi_r8', 'vehicle_model_year': '2005-2009', 'vehicle_registered_city': 'London', 'vehicle_owner_name': 'Robert Wade', 'vehicle_owner_address': '341A Chiswick High Road', 'vehicle_owner_city': 'London', 'vehicle_owner_zip_code': 'W4 4HS', 'vehicle_owner_contact_number': '+44202537 2535', 'customer_id': '7307c3ca-6915-4dde-b561-0f1dec4be276', 'customer_balance': '679 USD', 'customer_name': 'Robert Wade', 'customer_address': '341A Chiswick High Road', 'customer_city': 'London', 'customer_zip_code': 'W4 4HS', 'customer_contact_number': '+44202537 2535'}, {'vehicle_registered_plate_number': 'G526JHD', 'vehicle_color': 'silver-gray', 'vehicle_make': 'audi', 'vehicle_body_type': 'sedan-sports', 'vehicle_make_model': 'audi_r8', 'vehicle_model_year': '2005-2009', 'vehicle_registered_city': 'London', 'vehicle_owner_name': 'Robert Wade', 'vehicle_owner_address': '1 Phillimore Gardens', 'vehicle_owner_city': 'London', 'vehicle_owner_zip_code': 'W8 7QB', 'vehicle_owner_contact_number': '+44204865 6357', 'customer_id': '7307c3ca-6915-4dde-b561-0f1dec4be276', 'customer_balance': '679 USD', 'customer_name': 'Robert Wade', 'customer_address': '1 Phillimore Gardens', 'customer_city': 'London', 'customer_zip_code': 'W8 7QB', 'customer_contact_number': '+44204865 6357'}, {'vehicle_registered_plate_number': 'KL01CC50', 'vehicle_color': 'white', 'vehicle_make': 'toyota', 'vehicle_body_type': 'sedan-compact', 'vehicle_make_model': 'mazda_cx', 'vehicle_model_year': '2010-2014', 'vehicle_registered_city': 'London', 'vehicle_owner_name': 'Maria Moore', 'vehicle_owner_address': '95 Beechmount Avenue', 'vehicle_owner_city': 'London', 'vehicle_owner_zip_code': 'W7 3AF', 'vehicle_owner_contact_number': '+441895270541', 'customer_id': '114c26f1-2766-41dc-8ff8-dc4010553038', 'customer_balance': '264 USD', 'customer_name': 'Maria Moore', 'customer_address': '95 Beechmount Avenue', 'customer_city': 'London', 'customer_zip_code': 'W7 3AF', 'customer_contact_number': '+441895270541'}, {'vehicle_registered_plate_number': '2662', 'vehicle_color': 'white', 'vehicle_make': 'volkswagen', 'vehicle_body_type': 'sedan-standard', 'vehicle_make_model': 'volkswagen_vento', 'vehicle_model_year': '2005-2009', 'vehicle_registered_city': 'London', 'vehicle_owner_name': 'Alexander Smith Jr.', 'vehicle_owner_address': '11 Queen Street', 'vehicle_owner_city': 'London', 'vehicle_owner_zip_code': 'W1J 5PF', 'vehicle_owner_contact_number': '+44207342 1031', 'customer_id': '74391a22-e772-4c56-9096-5cac94f279ad', 'customer_balance': '426 USD', 'customer_name': 'Alexander Smith Jr.', 'customer_address': '11 Queen Street', 'customer_city': 'London', 'customer_zip_code': 'W1J 5PF', 'customer_contact_number': '+44207342 1031'}, {'vehicle_registered_plate_number': 'G00GLE', 'vehicle_color': 'black', 'vehicle_make': 'bmw', 'vehicle_body_type': 'sedan-standard', 'vehicle_make_model': 'bmw_3-series', 'vehicle_model_year': '2005-2009', 'vehicle_registered_city': 'Epsom', 'vehicle_owner_name': 'Andrew Blevins', 'vehicle_owner_address': '29A Worple Road', 'vehicle_owner_city': 'Epsom', 'vehicle_owner_zip_code': 'KT18 5EP', 'vehicle_owner_contact_number': '+441372305635', 'customer_id': 'd3d64fe0-824b-4893-acfe-9969b2eaf189', 'customer_balance': '651 USD', 'customer_name': 'Andrew Blevins', 'customer_address': '29A Worple Road', 'customer_city': 'Epsom', 'customer_zip_code': 'KT18 5EP', 'customer_contact_number': '+441372305635'}, {'vehicle_registered_plate_number': 'CHIAN000', 'vehicle_color': 'black', 'vehicle_make': 'toyota', 'vehicle_body_type': 'sedan-wagon', 'vehicle_make_model': 'toyota_land-cruiser', 'vehicle_model_year': '2010-2014', 'vehicle_registered_city': 'London', 'vehicle_owner_name': 'Bradley Nelson', 'vehicle_owner_address': 'Apartment 513 6 Wood Crescent', 'vehicle_owner_city': 'London', 'vehicle_owner_zip_code': 'W12 7GS', 'vehicle_owner_contact_number': '+44203444 8157', 'customer_id': 'f282c1e0-1686-45a7-a55b-b0be4eacf0c6', 'customer_balance': '658 USD', 'customer_name': 'Bradley Nelson', 'customer_address': 'Apartment 513 6 Wood Crescent', 'customer_city': 'London', 'customer_zip_code': 'W12 7GS', 'customer_contact_number': '+44203444 8157'}, {'vehicle_registered_plate_number': 'S7JDW', 'vehicle_color': 'silver-gray', 'vehicle_make': 'aston-martin', 'vehicle_body_type': 'sedan-sports', 'vehicle_make_model': 'mercedes-benz_amg-gt', 'vehicle_model_year': '2015-2019', 'vehicle_registered_city': 'Hampton Wick', 'vehicle_owner_name': 'Nicholas Mack', 'vehicle_owner_address': '37 Park Road', 'vehicle_owner_city': 'Hampton Wick', 'vehicle_owner_zip_code': 'KT1 4AS', 'vehicle_owner_contact_number': '+441372043122', 'customer_id': '58e84f08-ebee-43ca-adfb-ec39ed986f8e', 'customer_balance': '848 USD', 'customer_name': 'Nicholas Mack', 'customer_address': '37 Park Road', 'customer_city': 'Hampton Wick', 'customer_zip_code': 'KT1 4AS', 'customer_contact_number': '+441372043122'}, {'vehicle_registered_plate_number': 'CRA1G', 'vehicle_color': 'yellow', 'vehicle_make': 'porsche', 'vehicle_body_type': 'sedan-sports', 'vehicle_make_model': 'porsche_boxster', 'vehicle_model_year': '1995-1999', 'vehicle_registered_city': 'London', 'vehicle_owner_name': 'Dr. Alvin Parker', 'vehicle_owner_address': '12 Lancashire Court', 'vehicle_owner_city': 'London', 'vehicle_owner_zip_code': 'W1S 1EY', 'vehicle_owner_contact_number': '+44208006 4415', 'customer_id': 'c7e41243-8452-42f5-add6-70336e56c3bb', 'customer_balance': '676 USD', 'customer_name': 'Dr. Alvin Parker', 'customer_address': '12 Lancashire Court', 'customer_city': 'London', 'customer_zip_code': 'W1S 1EY', 'customer_contact_number': '+44208006 4415'}, {'vehicle_registered_plate_number': 'HR26AZ5927', 'vehicle_color': 'blue', 'vehicle_make': 'chevrolet', 'vehicle_body_type': 'sedan-compact', 'vehicle_make_model': 'chevrolet_spark', 'vehicle_model_year': '2010-2014', 'vehicle_registered_city': 'London', 'vehicle_owner_name': 'Kimberly Vincent', 'vehicle_owner_address': 'Flat A 5 Dorset Street', 'vehicle_owner_city': 'London', 'vehicle_owner_zip_code': 'W1U 6QJ', 'vehicle_owner_contact_number': '+44200270 4478', 'customer_id': '2e3fa2fd-0f35-4fe0-8357-8fed908daa8f', 'customer_balance': '120 USD', 'customer_name': 'Kimberly Vincent', 'customer_address': 'Flat A 5 Dorset Street', 'customer_city': 'London', 'customer_zip_code': 'W1U 6QJ', 'customer_contact_number': '+44200270 4478'}]\n"
     ]
    }
   ],
   "source": [
    "import json\n",
    "import random\n",
    "import pandas\n",
    "\n",
    "db_file = open(\"database_0_20.json\")\n",
    "db = json.load(db_file)\n",
    "temp = {}\n",
    "results = {}\n",
    "#final_results = {\"seed_database\": [ ] }\n",
    "final_results = {\"seed_database\": [ ] }\n",
    "#print(type(len(db)))\n",
    "#print(db[len(db)-1])\n",
    "df = pandas.read_csv(\"uk_addresses.csv\")\n",
    "for i in range(0,len(db)):\n",
    "    temp={}\n",
    "    random_int = random.randint(0,49)\n",
    "    #temp.update({\"vehicle_registered_plate_number\": db[i][\"vehicle_registered_plate_number\"]})\n",
    "\n",
    "    temp.update({\"vehicle_registered_plate_number\": db[i][\"vehicle_registered_plate_number\"]})\n",
    "    temp.update({\"vehicle_color\": db[i][\"vehicle_color\"]})\n",
    "    temp.update({\"vehicle_make\": db[i][\"vehicle_make\"]})\n",
    "    temp.update({\"vehicle_body_type\": db[i][\"vehicle_body_type\"]})\n",
    "    temp.update({\"vehicle_make_model\": db[i][\"vehicle_make_model\"]})\n",
    "    temp.update({\"vehicle_model_year\": db[i][\"vehicle_model_year\"]})\n",
    "    temp.update({\"vehicle_registered_city\": df.loc[random_int].at[\"City\"]})\n",
    "\n",
    "\n",
    "    temp.update({\"vehicle_owner_name\": db[i][\"vehicle_owner_name\"]})\n",
    "    temp.update({\"vehicle_owner_address\": df.loc[random_int].at[\"Address\"]})\n",
    "    temp.update({\"vehicle_owner_city\": df.loc[random_int].at[\"City\"]})\n",
    "    temp.update({\"vehicle_owner_zip_code\": df.loc[random_int].at[\"Postcode\"]})\n",
    "    temp.update({\"vehicle_owner_contact_number\": df.loc[random_int].at[\"Phone number\"]})\n",
    "\n",
    "    temp.update({\"customer_id\": db[i][\"customer_id\"]})\n",
    "    temp.update({\"customer_balance\": db[i][\"customer_balance\"]})\n",
    "    temp.update({\"customer_name\": db[i][\"customer_name\"]})\n",
    "    temp.update({\"customer_address\": df.loc[random_int].at[\"Address\"]})\n",
    "    temp.update({\"customer_city\": df.loc[random_int].at[\"City\"]})\n",
    "    temp.update({\"customer_zip_code\": df.loc[random_int].at[\"Postcode\"]})\n",
    "    temp.update({\"customer_contact_number\": df.loc[random_int].at[\"Phone number\"]})\n",
    "\n",
    "    results = final_results['seed_database']\n",
    "    results.append(temp)\n",
    "    with open('database_uk_0_20.json', 'w', encoding='utf-8') as f:\n",
    "      json.dump(results, f, ensure_ascii=False, indent=4)\n",
    "#print(results)    "
   ]
  },
  {
   "cell_type": "code",
   "execution_count": null,
   "metadata": {},
   "outputs": [],
   "source": []
  }
 ]
}