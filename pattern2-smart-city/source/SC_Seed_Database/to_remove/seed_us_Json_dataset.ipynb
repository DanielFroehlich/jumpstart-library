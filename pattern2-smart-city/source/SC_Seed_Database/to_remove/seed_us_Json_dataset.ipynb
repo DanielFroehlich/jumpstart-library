{
 "metadata": {
  "language_info": {
   "codemirror_mode": {
    "name": "ipython",
    "version": 3
   },
   "file_extension": ".py",
   "mimetype": "text/x-python",
   "name": "python",
   "nbconvert_exporter": "python",
   "pygments_lexer": "ipython3",
   "version": "3.9.2"
  },
  "orig_nbformat": 2,
  "kernelspec": {
   "name": "python392jvsc74a57bd0aee8b7b246df8f9039afb4144a1f6fd8d2ca17a180786b69acc140d282b71a49",
   "display_name": "Python 3.9.2 64-bit"
  },
  "metadata": {
   "interpreter": {
    "hash": "aee8b7b246df8f9039afb4144a1f6fd8d2ca17a180786b69acc140d282b71a49"
   }
  }
 },
 "nbformat": 4,
 "nbformat_minor": 2,
 "cells": [
  {
   "source": [
    "#### This notebook reads ``us_addresses.json`` and calls ``api.openalpr.com`` to get car metdata like model, colour, type etc. The output file it creates is a JSON file. "
   ],
   "cell_type": "markdown",
   "metadata": {}
  },
  {
   "cell_type": "code",
   "execution_count": 4,
   "metadata": {
    "tags": []
   },
   "outputs": [
    {
     "output_type": "stream",
     "name": "stdout",
     "text": [
      "[{'vehicle_registered_plate_number': 'CHIAN000', 'vehicle_color': 'black', 'vehicle_make': 'toyota', 'vehicle_body_type': 'sedan-wagon', 'vehicle_make_model': 'toyota_land-cruiser', 'vehicle_model_year': '2010-2014', 'vehicle_registered_locality': 'MA', 'vehicle_owner_name': 'Roy Dale-Robinson', 'vehicle_owner_address': '302 Depot Road', 'vehicle_owner_city': 'Boxborough', 'vehicle_owner_state': 'MA', 'vehicle_owner_zip_code': '01719', 'vehicle_owner_contact_number': '+1-873-399-6088', 'customer_id': 'afc220a0-ccee-414e-99df-73300b555d53', 'customer_balance': '164 USD', 'customer_name': 'Roy Dale-Robinson', 'customer_address': '302 Depot Road', 'customer_city': 'Boxborough', 'customer_state': 'MA', 'customer_zip_code': '01719', 'customer_locality': 'MA', 'customer_contact_number': '+1-873-399-6088'}]\n"
     ]
    }
   ],
   "source": [
    "#!/usr/bin/python\n",
    "\n",
    "import requests\n",
    "import base64\n",
    "import json\n",
    "import uuid\n",
    "#pip3 install Faker\n",
    "from faker import Faker\n",
    "import random\n",
    "from geopy.geocoders import Nominatim\n",
    "\n",
    "def seed_db_creator(IMAGE_PATH):\n",
    "  SECRET_KEY = 'sk_90c281aebbfc04d52d6c2e860KR'\n",
    "  results= {}\n",
    "  with open(IMAGE_PATH, 'rb') as image_file:\n",
    "      img_base64 = base64.b64encode(image_file.read())\n",
    "  url = 'https://api.openalpr.com/v3/recognize_bytes?recognize_vehicle=1&country=us&secret_key=%s' % (SECRET_KEY)\n",
    "  r = requests.post(url, data = img_base64)\n",
    "  data = json.loads( json.dumps(r.json(), indent=2))\n",
    "  \n",
    "  ## Uncomment if you want to get input data from json instead of openalpr.com API\n",
    "  dump_file = open(\"dump.json\")\n",
    "  data = json.load(dump_file)\n",
    "\n",
    "  address_file = open(\"us_addresses.json\")\n",
    "  address_data = json.load(address_file)\n",
    "  \n",
    "  for i in data[\"results\"]:\n",
    "    customer_id = str(uuid.uuid4())\n",
    "    fake_owner_name = fake.name()\n",
    "    fake_owner_contact_number = fake.numerify('+1-###-###-####')\n",
    "    fake_address_details = fake.address()\n",
    "    fake_address_details = address_data[\"addresses\"][random.randint(0,999)]\n",
    "    #print(fake_address_details)\n",
    "    fake_lat_long = fake.local_latlng()\n",
    "\n",
    "    ##### Vehicle Information #####\n",
    "    results.update({\"vehicle_registered_plate_number\": i['plate']})\n",
    "    results.update({\"vehicle_color\": i[\"vehicle\"][\"color\"][0][\"name\"]})\n",
    "    results.update({\"vehicle_make\": i[\"vehicle\"][\"make\"][0][\"name\"]})\n",
    "    results.update({\"vehicle_body_type\": i[\"vehicle\"][\"body_type\"][0][\"name\"]})\n",
    "    results.update({\"vehicle_make_model\": i[\"vehicle\"][\"make_model\"][0][\"name\"]})\n",
    "    results.update({\"vehicle_model_year\": i[\"vehicle\"][\"year\"][0][\"name\"]})\n",
    "    results.update({\"vehicle_registered_locality\": fake_address_details['state']})\n",
    "   ###### Owner Information #####\n",
    "    results.update({\"vehicle_owner_name\": fake_owner_name})\n",
    "    results.update({\"vehicle_owner_address\": fake_address_details['address1']})\n",
    "    results.update({\"vehicle_owner_city\": fake_address_details['city']})\n",
    "    results.update({\"vehicle_owner_state\": fake_address_details['state']})\n",
    "    results.update({\"vehicle_owner_zip_code\": fake_address_details['postalCode']})\n",
    "    results.update({\"vehicle_owner_contact_number\": fake_owner_contact_number})\n",
    "   ###### Customer Information #####\n",
    "    results.update({\"customer_id\": customer_id})\n",
    "    results.update({\"customer_balance\": str(random.randint(100,999)) + \" USD\"})\n",
    "    results.update({\"customer_name\": fake_owner_name})\n",
    "    results.update({\"customer_address\": fake_address_details['address1']})\n",
    "    results.update({\"customer_city\": fake_address_details['city']})\n",
    "    results.update({\"customer_state\": fake_address_details['state']})\n",
    "    results.update({\"customer_zip_code\": fake_address_details['postalCode']})\n",
    "    results.update({\"customer_locality\": fake_address_details['state']})\n",
    "    results.update({\"customer_contact_number\": fake_owner_contact_number})\n",
    "    temp = final_results['seed_database']\n",
    "    temp.append(results)\n",
    "    with open('database.json', 'w', encoding='utf-8') as f:\n",
    "      json.dump(temp, f, ensure_ascii=False, indent=4)\n",
    "    print(temp)  \n",
    "\n",
    "\n",
    "\n",
    "final_results = {\"seed_database\": [ ] }\n",
    "#fake = Faker(['en-GB', 'en_GB', 'en_GB', 'en-GB'])\n",
    "fake = Faker( 'en_GB')\n",
    "#print(fake.locales)\n",
    "\n",
    "for i in range(11,12):\n",
    "  IMAGE_PATH = '/Users/karasing/git/jumpstart-library/pattern2-licence-plates/LPR_Service/dataset/images/'+str(i)+'.png'\n",
    "  #print(IMAGE_PATH)\n",
    "  seed_db_creator(IMAGE_PATH)\n"
   ]
  },
  {
   "cell_type": "code",
   "execution_count": null,
   "metadata": {},
   "outputs": [],
   "source": [
    "\n",
    "## For DB\n",
    "# vehicle_registered_plate_number\n",
    "# vehicle_color\n",
    "# vehicle_make\n",
    "# vehicle_body_type\n",
    "# vehicle_make_model\n",
    "# vehicle_model_year\n",
    "# vehicle_registered_locality\n",
    "\n",
    "# vehicle_owner_name\n",
    "# vehicle_owner_address\n",
    "# vehicle_owner_contact_number\n",
    "\n",
    "# customer_id\n",
    "# customer_balance\n",
    "# customer_name\n",
    "# customer_address\n",
    "# customer_locality\n",
    "# customer_contact_number\n",
    "\n",
    "## To Kafka\n",
    "# event_id\n",
    "# event_vehicle_detected_plate_number\n",
    "# event_vehicle_captured_image\n",
    "# event_vehicle_detected_geo_location\n",
    "# event_timestamp"
   ]
  }
 ]
}